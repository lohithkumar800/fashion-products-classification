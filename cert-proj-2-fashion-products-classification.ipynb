{
 "cells": [
  {
   "cell_type": "markdown",
   "metadata": {
    "papermill": {
     "duration": 0.020065,
     "end_time": "2022-11-29T00:04:14.614960",
     "exception": false,
     "start_time": "2022-11-29T00:04:14.594895",
     "status": "completed"
    },
    "tags": []
   },
   "source": [
    "# Certificate Project - 1 : [Fashion Images Classification](https://www.kaggle.com/microdegree/project-dataset-fashion-images)"
   ]
  },
  {
   "cell_type": "markdown",
   "metadata": {
    "papermill": {
     "duration": 0.018499,
     "end_time": "2022-11-29T00:04:14.652193",
     "exception": false,
     "start_time": "2022-11-29T00:04:14.633694",
     "status": "completed"
    },
    "tags": []
   },
   "source": [
    "# Replace all '????' with correct function name/values."
   ]
  },
  {
   "cell_type": "markdown",
   "metadata": {
    "papermill": {
     "duration": 0.017932,
     "end_time": "2022-11-29T00:04:14.688363",
     "exception": false,
     "start_time": "2022-11-29T00:04:14.670431",
     "status": "completed"
    },
    "tags": []
   },
   "source": [
    "# Import libraries:"
   ]
  },
  {
   "cell_type": "code",
   "execution_count": 1,
   "metadata": {
    "_cell_guid": "b1076dfc-b9ad-4769-8c92-a6c4dae69d19",
    "_uuid": "8f2839f25d086af736a60e9eeb907d3b93b6e0e5",
    "execution": {
     "iopub.execute_input": "2022-11-29T00:04:14.728970Z",
     "iopub.status.busy": "2022-11-29T00:04:14.727771Z",
     "iopub.status.idle": "2022-11-29T00:04:14.737624Z",
     "shell.execute_reply": "2022-11-29T00:04:14.738238Z",
     "shell.execute_reply.started": "2022-11-29T00:02:53.186627Z"
    },
    "papermill": {
     "duration": 0.03197,
     "end_time": "2022-11-29T00:04:14.738426",
     "exception": false,
     "start_time": "2022-11-29T00:04:14.706456",
     "status": "completed"
    },
    "tags": []
   },
   "outputs": [],
   "source": [
    "import os\n",
    "import glob\n",
    "import numpy as np\n",
    "\n",
    "from PIL import Image,ImageOps\n",
    "import matplotlib.pyplot as plt\n",
    "%matplotlib inline"
   ]
  },
  {
   "cell_type": "markdown",
   "metadata": {
    "papermill": {
     "duration": 0.018331,
     "end_time": "2022-11-29T00:04:14.774997",
     "exception": false,
     "start_time": "2022-11-29T00:04:14.756666",
     "status": "completed"
    },
    "tags": []
   },
   "source": [
    "# List out directories"
   ]
  },
  {
   "cell_type": "code",
   "execution_count": 2,
   "metadata": {
    "execution": {
     "iopub.execute_input": "2022-11-29T00:04:14.815238Z",
     "iopub.status.busy": "2022-11-29T00:04:14.814259Z",
     "iopub.status.idle": "2022-11-29T00:04:14.837705Z",
     "shell.execute_reply": "2022-11-29T00:04:14.838243Z",
     "shell.execute_reply.started": "2022-11-29T00:02:53.216116Z"
    },
    "papermill": {
     "duration": 0.045268,
     "end_time": "2022-11-29T00:04:14.838396",
     "exception": false,
     "start_time": "2022-11-29T00:04:14.793128",
     "status": "completed"
    },
    "tags": []
   },
   "outputs": [
    {
     "data": {
      "text/plain": [
       "['test', 'train']"
      ]
     },
     "execution_count": 2,
     "metadata": {},
     "output_type": "execute_result"
    }
   ],
   "source": [
    "base_dir = '../input/project-dataset-fashion-images/Fashion_Images_Trimmed/fashion_dataset_2k'\n",
    "directory = os.listdir(base_dir)\n",
    "directory"
   ]
  },
  {
   "cell_type": "markdown",
   "metadata": {
    "papermill": {
     "duration": 0.018688,
     "end_time": "2022-11-29T00:04:14.876226",
     "exception": false,
     "start_time": "2022-11-29T00:04:14.857538",
     "status": "completed"
    },
    "tags": []
   },
   "source": [
    "# Prepare training & testing directory paths"
   ]
  },
  {
   "cell_type": "code",
   "execution_count": 3,
   "metadata": {
    "execution": {
     "iopub.execute_input": "2022-11-29T00:04:14.917929Z",
     "iopub.status.busy": "2022-11-29T00:04:14.916579Z",
     "iopub.status.idle": "2022-11-29T00:04:14.921290Z",
     "shell.execute_reply": "2022-11-29T00:04:14.921794Z",
     "shell.execute_reply.started": "2022-11-29T00:02:53.225665Z"
    },
    "papermill": {
     "duration": 0.027056,
     "end_time": "2022-11-29T00:04:14.921965",
     "exception": false,
     "start_time": "2022-11-29T00:04:14.894909",
     "status": "completed"
    },
    "tags": []
   },
   "outputs": [],
   "source": [
    "train_dir = base_dir + '/train/'\n",
    "test_dir = base_dir + '/test/'"
   ]
  },
  {
   "cell_type": "markdown",
   "metadata": {
    "papermill": {
     "duration": 0.018441,
     "end_time": "2022-11-29T00:04:14.959676",
     "exception": false,
     "start_time": "2022-11-29T00:04:14.941235",
     "status": "completed"
    },
    "tags": []
   },
   "source": [
    "# Prepare CLASSES array"
   ]
  },
  {
   "cell_type": "code",
   "execution_count": 4,
   "metadata": {
    "execution": {
     "iopub.execute_input": "2022-11-29T00:04:15.002403Z",
     "iopub.status.busy": "2022-11-29T00:04:15.001428Z",
     "iopub.status.idle": "2022-11-29T00:04:15.018440Z",
     "shell.execute_reply": "2022-11-29T00:04:15.018981Z",
     "shell.execute_reply.started": "2022-11-29T00:02:53.237700Z"
    },
    "papermill": {
     "duration": 0.040858,
     "end_time": "2022-11-29T00:04:15.019146",
     "exception": false,
     "start_time": "2022-11-29T00:04:14.978288",
     "status": "completed"
    },
    "tags": []
   },
   "outputs": [
    {
     "data": {
      "text/plain": [
       "['Apparel', 'Footwear', 'Personal Care', 'Accessories']"
      ]
     },
     "execution_count": 4,
     "metadata": {},
     "output_type": "execute_result"
    }
   ],
   "source": [
    "# Hint: \n",
    "#   You are free to use api available in 'os' library, which returns array of directories inside given path.\n",
    "#   Or, you can manually prepare the array, as CLASSES = ['folder name1', 'folder name 2' ...]\n",
    "CLASSES = os.listdir(train_dir)\n",
    "CLASSES"
   ]
  },
  {
   "cell_type": "markdown",
   "metadata": {
    "papermill": {
     "duration": 0.019845,
     "end_time": "2022-11-29T00:04:15.058517",
     "exception": false,
     "start_time": "2022-11-29T00:04:15.038672",
     "status": "completed"
    },
    "tags": []
   },
   "source": [
    "# Total no. of images per class in training dataset"
   ]
  },
  {
   "cell_type": "code",
   "execution_count": 5,
   "metadata": {
    "execution": {
     "iopub.execute_input": "2022-11-29T00:04:15.100613Z",
     "iopub.status.busy": "2022-11-29T00:04:15.099481Z",
     "iopub.status.idle": "2022-11-29T00:04:15.806158Z",
     "shell.execute_reply": "2022-11-29T00:04:15.806664Z",
     "shell.execute_reply.started": "2022-11-29T00:02:53.254539Z"
    },
    "papermill": {
     "duration": 0.729419,
     "end_time": "2022-11-29T00:04:15.806831",
     "exception": false,
     "start_time": "2022-11-29T00:04:15.077412",
     "status": "completed"
    },
    "tags": []
   },
   "outputs": [
    {
     "name": "stdout",
     "output_type": "stream",
     "text": [
      "CLASS: Apparel, Total images: 2000\n",
      "CLASS: Footwear, Total images: 2000\n",
      "CLASS: Personal Care, Total images: 2000\n",
      "CLASS: Accessories, Total images: 2000\n"
     ]
    }
   ],
   "source": [
    "# TRAINING DIR: For each class, lets see how many images are there..\n",
    "for imgType in CLASSES:\n",
    "    imgTypePath = train_dir + \"/\" + imgType + \"/\"\n",
    "    print(\"CLASS: \" + imgType + \", Total images: \" + str(len(os.listdir(imgTypePath)))) "
   ]
  },
  {
   "cell_type": "markdown",
   "metadata": {
    "papermill": {
     "duration": 0.019324,
     "end_time": "2022-11-29T00:04:15.845655",
     "exception": false,
     "start_time": "2022-11-29T00:04:15.826331",
     "status": "completed"
    },
    "tags": []
   },
   "source": [
    "# Total no. of images per class in testing dataset"
   ]
  },
  {
   "cell_type": "code",
   "execution_count": 6,
   "metadata": {
    "execution": {
     "iopub.execute_input": "2022-11-29T00:04:15.890209Z",
     "iopub.status.busy": "2022-11-29T00:04:15.889424Z",
     "iopub.status.idle": "2022-11-29T00:04:16.091428Z",
     "shell.execute_reply": "2022-11-29T00:04:16.090347Z",
     "shell.execute_reply.started": "2022-11-29T00:02:53.269564Z"
    },
    "papermill": {
     "duration": 0.22648,
     "end_time": "2022-11-29T00:04:16.091593",
     "exception": false,
     "start_time": "2022-11-29T00:04:15.865113",
     "status": "completed"
    },
    "tags": []
   },
   "outputs": [
    {
     "name": "stdout",
     "output_type": "stream",
     "text": [
      "CLASS: Apparel, Total images: 400\n",
      "CLASS: Footwear, Total images: 400\n",
      "CLASS: Personal Care, Total images: 400\n",
      "CLASS: Accessories, Total images: 400\n"
     ]
    }
   ],
   "source": [
    "# TESTING DIR: For each class, lets see how many images are there..\n",
    "for imgType in CLASSES:\n",
    "    imgTypePath = test_dir + \"/\" + imgType + \"/\"\n",
    "    print(\"CLASS: \" + imgType + \", Total images: \" + str(len(os.listdir(imgTypePath))))"
   ]
  },
  {
   "cell_type": "markdown",
   "metadata": {
    "papermill": {
     "duration": 0.023446,
     "end_time": "2022-11-29T00:04:16.135869",
     "exception": false,
     "start_time": "2022-11-29T00:04:16.112423",
     "status": "completed"
    },
    "tags": []
   },
   "source": [
    "## Pipeline helper functions"
   ]
  },
  {
   "cell_type": "code",
   "execution_count": 7,
   "metadata": {
    "execution": {
     "iopub.execute_input": "2022-11-29T00:04:16.265715Z",
     "iopub.status.busy": "2022-11-29T00:04:16.255436Z",
     "iopub.status.idle": "2022-11-29T00:04:16.268734Z",
     "shell.execute_reply": "2022-11-29T00:04:16.268015Z",
     "shell.execute_reply.started": "2022-11-29T00:02:53.282319Z"
    },
    "papermill": {
     "duration": 0.107036,
     "end_time": "2022-11-29T00:04:16.268863",
     "exception": false,
     "start_time": "2022-11-29T00:04:16.161827",
     "status": "completed"
    },
    "tags": []
   },
   "outputs": [],
   "source": [
    "def convert_to_grayscale(img):\n",
    "    #Convert to grayscale\n",
    "    return ImageOps.grayscale(img) #Return gray scale image object using ImageOps.\n",
    "\n",
    "def reshape_img(img, target_size=(150,150)):\n",
    "    #Reshape any image to a fixed shape\n",
    "    return img.resize(target_size, Image.ANTIALIAS) #Hint: Use resize() API on image object and pass target size param.\n",
    "\n",
    "def display_numpy_img(np_img, img_name=\"Transformed image\"):\n",
    "    plt.figure(figsize = (6,6))\n",
    "    plt.imshow(np_img, cmap='gray')\n",
    "    plt.title(img_name)\n",
    "    \n",
    "def transform_image(img_file_path):\n",
    "    img_obj = Image.open(img_file_path)\n",
    "    #print(img_obj.format)\n",
    "    #print(np.array(img_obj).shape)\n",
    "    #Perform transformations in series\n",
    "    img_obj = convert_to_grayscale(img_obj)\n",
    "    img_obj = reshape_img(img_obj, (150,150))\n",
    "    np_arr_img = np.array(img_obj)\n",
    "    return np_arr_img\n",
    "\n",
    "def load_dir_to_numpy(dir_path, maxImgs=1500):\n",
    "    file_list = glob.glob(dir_path+'/*')\n",
    "    imgs = []\n",
    "    #Load image by image\n",
    "    imgCount=0\n",
    "    for fname in file_list:\n",
    "        if imgCount>=maxImgs:\n",
    "            break\n",
    "        img_np = transform_image(fname)\n",
    "        imgs.append(img_np)\n",
    "        imgCount = imgCount + 1\n",
    "    np_imgs = np.array(imgs)\n",
    "    return np_imgs\n",
    "\n",
    "def prepare_image_data(dir_path, MAX_IMGS):\n",
    "    imgs_arr_X = []\n",
    "    data_arr_y = []\n",
    "    classIdx = 0;\n",
    "    for imgType in CLASSES:\n",
    "        IMG_DIR = dir_path + \"/\" + imgType + \"/\"\n",
    "        #  print(\"IMG_DIR: \" + IMG_DIR)\n",
    "        imgs_arr = load_dir_to_numpy(IMG_DIR, MAX_IMGS)\n",
    "        #print(imgType + \": \" + str(imgs_arr.shape))\n",
    "        imgs_arr_X.extend(imgs_arr)\n",
    "        data_y = np.full((imgs_arr.shape[0],1), classIdx)\n",
    "        data_arr_y.extend(data_y)\n",
    "        classIdx += 1\n",
    "    np_img_arr_X = np.array(imgs_arr_X)\n",
    "    np_data_arr_y = np.array(data_arr_y)\n",
    "    return np_img_arr_X,np_data_arr_y"
   ]
  },
  {
   "cell_type": "markdown",
   "metadata": {
    "papermill": {
     "duration": 0.029095,
     "end_time": "2022-11-29T00:04:16.321054",
     "exception": false,
     "start_time": "2022-11-29T00:04:16.291959",
     "status": "completed"
    },
    "tags": []
   },
   "source": [
    "# Prepare training dataset"
   ]
  },
  {
   "cell_type": "code",
   "execution_count": 8,
   "metadata": {
    "execution": {
     "iopub.execute_input": "2022-11-29T00:04:16.366588Z",
     "iopub.status.busy": "2022-11-29T00:04:16.365626Z",
     "iopub.status.idle": "2022-11-29T00:04:23.640424Z",
     "shell.execute_reply": "2022-11-29T00:04:23.639869Z",
     "shell.execute_reply.started": "2022-11-29T00:02:53.297908Z"
    },
    "papermill": {
     "duration": 7.29954,
     "end_time": "2022-11-29T00:04:23.640574",
     "exception": false,
     "start_time": "2022-11-29T00:04:16.341034",
     "status": "completed"
    },
    "tags": []
   },
   "outputs": [
    {
     "name": "stdout",
     "output_type": "stream",
     "text": [
      "train_np_x.shape: (2000, 150, 150)\n",
      "train_np_y.shape: (2000, 1)\n"
     ]
    }
   ],
   "source": [
    "train_np_x,train_np_y = prepare_image_data(train_dir, 500)\n",
    "print('train_np_x.shape:', train_np_x.shape)\n",
    "print('train_np_y.shape:', train_np_y.shape)"
   ]
  },
  {
   "cell_type": "markdown",
   "metadata": {
    "papermill": {
     "duration": 0.019935,
     "end_time": "2022-11-29T00:04:23.680717",
     "exception": false,
     "start_time": "2022-11-29T00:04:23.660782",
     "status": "completed"
    },
    "tags": []
   },
   "source": [
    "# Flatten out the 2D image data into 1D vector"
   ]
  },
  {
   "cell_type": "code",
   "execution_count": 9,
   "metadata": {
    "execution": {
     "iopub.execute_input": "2022-11-29T00:04:23.727853Z",
     "iopub.status.busy": "2022-11-29T00:04:23.727139Z",
     "iopub.status.idle": "2022-11-29T00:04:23.731405Z",
     "shell.execute_reply": "2022-11-29T00:04:23.730741Z",
     "shell.execute_reply.started": "2022-11-29T00:02:55.941120Z"
    },
    "papermill": {
     "duration": 0.030104,
     "end_time": "2022-11-29T00:04:23.731565",
     "exception": false,
     "start_time": "2022-11-29T00:04:23.701461",
     "status": "completed"
    },
    "tags": []
   },
   "outputs": [
    {
     "name": "stdout",
     "output_type": "stream",
     "text": [
      "After reshaping, train_np_x.shape: (2000, 22500)\n"
     ]
    }
   ],
   "source": [
    "# Flatten out the 2D image data into 1D vector\n",
    "train_size = train_np_x.shape[0]\n",
    "train_np_x = train_np_x.reshape((train_size, -1))\n",
    "print('After reshaping, train_np_x.shape:', train_np_x.shape)"
   ]
  },
  {
   "cell_type": "markdown",
   "metadata": {
    "papermill": {
     "duration": 0.020578,
     "end_time": "2022-11-29T00:04:23.772930",
     "exception": false,
     "start_time": "2022-11-29T00:04:23.752352",
     "status": "completed"
    },
    "tags": []
   },
   "source": [
    "# Import & Prepare the model object"
   ]
  },
  {
   "cell_type": "code",
   "execution_count": 10,
   "metadata": {
    "execution": {
     "iopub.execute_input": "2022-11-29T00:04:23.819953Z",
     "iopub.status.busy": "2022-11-29T00:04:23.819177Z",
     "iopub.status.idle": "2022-11-29T00:04:24.830017Z",
     "shell.execute_reply": "2022-11-29T00:04:24.829191Z",
     "shell.execute_reply.started": "2022-11-29T00:02:55.952191Z"
    },
    "papermill": {
     "duration": 1.036971,
     "end_time": "2022-11-29T00:04:24.830239",
     "exception": false,
     "start_time": "2022-11-29T00:04:23.793268",
     "status": "completed"
    },
    "tags": []
   },
   "outputs": [],
   "source": [
    "# Import a model\n",
    "from sklearn.linear_model import SGDClassifier\n",
    "model = SGDClassifier()\n",
    "\n",
    "#Hint: Any algorithm say sklearn.linear_model.SGDClassifier OR sklearn.tree.DecisionTreeClassifier() etc.."
   ]
  },
  {
   "cell_type": "markdown",
   "metadata": {
    "papermill": {
     "duration": 0.020054,
     "end_time": "2022-11-29T00:04:24.870674",
     "exception": false,
     "start_time": "2022-11-29T00:04:24.850620",
     "status": "completed"
    },
    "tags": []
   },
   "source": [
    "# Train the model"
   ]
  },
  {
   "cell_type": "code",
   "execution_count": 11,
   "metadata": {
    "execution": {
     "iopub.execute_input": "2022-11-29T00:04:24.916192Z",
     "iopub.status.busy": "2022-11-29T00:04:24.915138Z",
     "iopub.status.idle": "2022-11-29T00:04:42.830735Z",
     "shell.execute_reply": "2022-11-29T00:04:42.829767Z",
     "shell.execute_reply.started": "2022-11-29T00:02:55.967558Z"
    },
    "papermill": {
     "duration": 17.9399,
     "end_time": "2022-11-29T00:04:42.830880",
     "exception": false,
     "start_time": "2022-11-29T00:04:24.890980",
     "status": "completed"
    },
    "tags": []
   },
   "outputs": [
    {
     "data": {
      "text/plain": [
       "SGDClassifier()"
      ]
     },
     "execution_count": 11,
     "metadata": {},
     "output_type": "execute_result"
    }
   ],
   "source": [
    "model.fit(train_np_x,train_np_y.reshape(-1))"
   ]
  },
  {
   "cell_type": "markdown",
   "metadata": {
    "papermill": {
     "duration": 0.021033,
     "end_time": "2022-11-29T00:04:42.873447",
     "exception": false,
     "start_time": "2022-11-29T00:04:42.852414",
     "status": "completed"
    },
    "tags": []
   },
   "source": [
    "# Prepare testing data"
   ]
  },
  {
   "cell_type": "code",
   "execution_count": 12,
   "metadata": {
    "execution": {
     "iopub.execute_input": "2022-11-29T00:04:42.922484Z",
     "iopub.status.busy": "2022-11-29T00:04:42.921465Z",
     "iopub.status.idle": "2022-11-29T00:04:46.045059Z",
     "shell.execute_reply": "2022-11-29T00:04:46.044284Z",
     "shell.execute_reply.started": "2022-11-29T00:03:08.144484Z"
    },
    "papermill": {
     "duration": 3.150126,
     "end_time": "2022-11-29T00:04:46.045216",
     "exception": false,
     "start_time": "2022-11-29T00:04:42.895090",
     "status": "completed"
    },
    "tags": []
   },
   "outputs": [
    {
     "name": "stdout",
     "output_type": "stream",
     "text": [
      "Test shape: (800, 22500)\n"
     ]
    }
   ],
   "source": [
    "test_np_x,test_np_y = prepare_image_data(test_dir, 200)\n",
    "\n",
    "test_size = test_np_x.shape[0]\n",
    "test_np_x = test_np_x.reshape((test_size, -1))\n",
    "print('Test shape:', test_np_x.shape)"
   ]
  },
  {
   "cell_type": "markdown",
   "metadata": {
    "papermill": {
     "duration": 0.020556,
     "end_time": "2022-11-29T00:04:46.086859",
     "exception": false,
     "start_time": "2022-11-29T00:04:46.066303",
     "status": "completed"
    },
    "tags": []
   },
   "source": [
    "# Predict using testing data"
   ]
  },
  {
   "cell_type": "code",
   "execution_count": 13,
   "metadata": {
    "execution": {
     "iopub.execute_input": "2022-11-29T00:04:46.140652Z",
     "iopub.status.busy": "2022-11-29T00:04:46.139919Z",
     "iopub.status.idle": "2022-11-29T00:04:46.205841Z",
     "shell.execute_reply": "2022-11-29T00:04:46.205172Z",
     "shell.execute_reply.started": "2022-11-29T00:03:12.223846Z"
    },
    "papermill": {
     "duration": 0.098237,
     "end_time": "2022-11-29T00:04:46.205979",
     "exception": false,
     "start_time": "2022-11-29T00:04:46.107742",
     "status": "completed"
    },
    "tags": []
   },
   "outputs": [],
   "source": [
    "# Get predicted values for 'test_np_x' using trained 'model' \n",
    "predicted_y = model.predict(test_np_x)"
   ]
  },
  {
   "cell_type": "markdown",
   "metadata": {
    "papermill": {
     "duration": 0.022072,
     "end_time": "2022-11-29T00:04:46.249906",
     "exception": false,
     "start_time": "2022-11-29T00:04:46.227834",
     "status": "completed"
    },
    "tags": []
   },
   "source": [
    "# What's the trained model accuracy on test data?"
   ]
  },
  {
   "cell_type": "code",
   "execution_count": 14,
   "metadata": {
    "execution": {
     "iopub.execute_input": "2022-11-29T00:04:46.301366Z",
     "iopub.status.busy": "2022-11-29T00:04:46.298248Z",
     "iopub.status.idle": "2022-11-29T00:04:46.304792Z",
     "shell.execute_reply": "2022-11-29T00:04:46.303745Z",
     "shell.execute_reply.started": "2022-11-29T00:03:12.272451Z"
    },
    "papermill": {
     "duration": 0.033974,
     "end_time": "2022-11-29T00:04:46.304974",
     "exception": false,
     "start_time": "2022-11-29T00:04:46.271000",
     "status": "completed"
    },
    "tags": []
   },
   "outputs": [
    {
     "name": "stdout",
     "output_type": "stream",
     "text": [
      "Accuracy Score: 0.90875\n"
     ]
    }
   ],
   "source": [
    "from sklearn.metrics import accuracy_score,classification_report,confusion_matrix\n",
    "actual_y = test_np_y.reshape(-1)\n",
    "print('Accuracy Score:', accuracy_score(actual_y, predicted_y))"
   ]
  },
  {
   "cell_type": "markdown",
   "metadata": {
    "papermill": {
     "duration": 0.02184,
     "end_time": "2022-11-29T00:04:46.350393",
     "exception": false,
     "start_time": "2022-11-29T00:04:46.328553",
     "status": "completed"
    },
    "tags": []
   },
   "source": [
    "# Model training performance report"
   ]
  },
  {
   "cell_type": "code",
   "execution_count": 15,
   "metadata": {
    "execution": {
     "iopub.execute_input": "2022-11-29T00:04:46.400213Z",
     "iopub.status.busy": "2022-11-29T00:04:46.399372Z",
     "iopub.status.idle": "2022-11-29T00:04:46.408944Z",
     "shell.execute_reply": "2022-11-29T00:04:46.408211Z",
     "shell.execute_reply.started": "2022-11-29T00:03:12.280317Z"
    },
    "papermill": {
     "duration": 0.036588,
     "end_time": "2022-11-29T00:04:46.409073",
     "exception": false,
     "start_time": "2022-11-29T00:04:46.372485",
     "status": "completed"
    },
    "tags": []
   },
   "outputs": [
    {
     "name": "stdout",
     "output_type": "stream",
     "text": [
      "              precision    recall  f1-score   support\n",
      "\n",
      "           0       0.83      0.96      0.89       200\n",
      "           1       0.99      0.94      0.96       200\n",
      "           2       0.91      0.95      0.93       200\n",
      "           3       0.92      0.79      0.85       200\n",
      "\n",
      "    accuracy                           0.91       800\n",
      "   macro avg       0.91      0.91      0.91       800\n",
      "weighted avg       0.91      0.91      0.91       800\n",
      "\n"
     ]
    }
   ],
   "source": [
    "print(classification_report(actual_y, predicted_y))"
   ]
  },
  {
   "cell_type": "markdown",
   "metadata": {
    "papermill": {
     "duration": 0.022536,
     "end_time": "2022-11-29T00:04:46.454342",
     "exception": false,
     "start_time": "2022-11-29T00:04:46.431806",
     "status": "completed"
    },
    "tags": []
   },
   "source": [
    "# Confusion matrix"
   ]
  },
  {
   "cell_type": "code",
   "execution_count": 16,
   "metadata": {
    "execution": {
     "iopub.execute_input": "2022-11-29T00:04:46.504252Z",
     "iopub.status.busy": "2022-11-29T00:04:46.503377Z",
     "iopub.status.idle": "2022-11-29T00:04:46.513288Z",
     "shell.execute_reply": "2022-11-29T00:04:46.512552Z",
     "shell.execute_reply.started": "2022-11-29T00:03:12.296067Z"
    },
    "papermill": {
     "duration": 0.03699,
     "end_time": "2022-11-29T00:04:46.513425",
     "exception": false,
     "start_time": "2022-11-29T00:04:46.476435",
     "status": "completed"
    },
    "tags": []
   },
   "outputs": [
    {
     "name": "stdout",
     "output_type": "stream",
     "text": [
      "[[192   0   4   4]\n",
      " [  2 187   4   7]\n",
      " [  7   0 191   2]\n",
      " [ 30   1  12 157]]\n"
     ]
    }
   ],
   "source": [
    "print(confusion_matrix(actual_y, predicted_y))"
   ]
  }
 ],
 "metadata": {
  "kernelspec": {
   "display_name": "Python 3",
   "language": "python",
   "name": "python3"
  },
  "language_info": {
   "codemirror_mode": {
    "name": "ipython",
    "version": 3
   },
   "file_extension": ".py",
   "mimetype": "text/x-python",
   "name": "python",
   "nbconvert_exporter": "python",
   "pygments_lexer": "ipython3",
   "version": "3.7.6"
  },
  "papermill": {
   "duration": 36.662425,
   "end_time": "2022-11-29T00:04:46.643455",
   "environment_variables": {},
   "exception": null,
   "input_path": "__notebook__.ipynb",
   "output_path": "__notebook__.ipynb",
   "parameters": {},
   "start_time": "2022-11-29T00:04:09.981030",
   "version": "2.1.0"
  }
 },
 "nbformat": 4,
 "nbformat_minor": 4
}
